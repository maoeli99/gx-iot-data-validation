{
    "cells": [
        {
            "cell_type": "markdown",
            "id": "5e2ef2e6",
            "metadata": {},
            "source": [
                "\n",
                "# Great Expectations (GX) Setup Notebook\n",
                "\n",
                "Dieses Notebook dient zur Konfiguration und Definition der Datenvalidierung mit Hilfe der Bibliothek Great Expectations. Die Ergebnisse des Notebooks (Validation_Definition, Checkpoint) werden für die Simulation zur automatisierten Validierung weiterverwendet\n",
                "\n",
                "## Voraussetzungen\n",
                "- Abhängigkeiten aus requirements.txt installiert\n",
                "- Datenbanksystem installiert (siehe README)\n",
                "\n",
                "## Inhalt\n",
                "1. **Setup und Datenbankverbindung**  \n",
                "2. **Definition der Datenvalidierung**  \n",
                "3. **Definition des Checkpoints**  \n",
                "4. **Test-Validierung** "
            ]
        },
        {
            "cell_type": "markdown",
            "metadata": {},
            "source": [
                "### 1. Setup und Datenbankverbindung"
            ]
        },
        {
            "cell_type": "markdown",
            "metadata": {},
            "source": [
                "#### Imports"
            ]
        },
        {
            "cell_type": "code",
            "execution_count": null,
            "metadata": {},
            "outputs": [],
            "source": [
                "from datetime import datetime, timedelta\n",
                "\n",
                "# Great Expectations Funktionen importieren\n",
                "import great_expectations as gx\n",
                "from great_expectations.checkpoint import UpdateDataDocsAction\n",
                "\n",
                "# Konstanten für die Datenbankverbindung importieren\n",
                "from constants import (\n",
                "    DB_HOST, DB_PORT, DB_USER, DB_PASSWORD, DB_NAME,\n",
                "    DATA_SOURCE, DATA_ASSET, DB_TABLE, BATCH_DEFINITION,\n",
                "    EXPECTATION_SUITE, VALIDATION_DEFINITION, CHECKPOINT_NAME\n",
                ")"
            ]
        },
        {
            "cell_type": "markdown",
            "metadata": {},
            "source": [
                "#### Kontext laden"
            ]
        },
        {
            "cell_type": "code",
            "execution_count": null,
            "metadata": {},
            "outputs": [],
            "source": [
                "# GX-Verzeichnis mit allen relevanten Dateien erstellen\n",
                "context = gx.get_context(mode=\"file\", project_root_dir=\"../\")"
            ]
        },
        {
            "cell_type": "markdown",
            "metadata": {},
            "source": [
                "#### Connection-String für Datenbankverbindung generieren"
            ]
        },
        {
            "cell_type": "code",
            "execution_count": null,
            "metadata": {},
            "outputs": [],
            "source": [
                "db_connection_string = f\"postgresql+psycopg2://{DB_USER}:{DB_PASSWORD}@{DB_HOST}:{DB_PORT}/{DB_NAME}\""
            ]
        },
        {
            "cell_type": "markdown",
            "metadata": {},
            "source": [
                "#### Datenquelle hinzufügen"
            ]
        },
        {
            "cell_type": "code",
            "execution_count": null,
            "metadata": {},
            "outputs": [],
            "source": [
                "data_source = context.data_sources.add_or_update_postgres(\n",
                "    name = DATA_SOURCE, \n",
                "    connection_string = db_connection_string\n",
                ")"
            ]
        },
        {
            "cell_type": "markdown",
            "metadata": {},
            "source": [
                "#### Daten-Asset (Tabelle) hinzufügen"
            ]
        },
        {
            "cell_type": "code",
            "execution_count": null,
            "metadata": {},
            "outputs": [],
            "source": [
                "if not data_source.assets:\n",
                "    # Asset existiert noch nicht – daher wird es hinzugefügt\n",
                "    data_asset = data_source.add_table_asset(table_name=DB_TABLE, name=DATA_ASSET)    \n",
                "else:\n",
                "    # Asset existiert bereits\n",
                "    data_asset = data_source.assets[DATA_ASSET]"
            ]
        },
        {
            "cell_type": "markdown",
            "metadata": {},
            "source": [
                "#### Batch-Definition hinzufügen"
            ]
        },
        {
            "cell_type": "code",
            "execution_count": null,
            "metadata": {},
            "outputs": [],
            "source": [
                "if not data_asset.batch_definitions:\n",
                "   # Batch-Definition existiert noch nicht – daher wird es hinzugefügt\n",
                "   batch_definition = data_asset.add_batch_definition_daily(name=BATCH_DEFINITION, column=\"timestamp\")\n",
                "else:\n",
                "   # Batch existiert bereits\n",
                "   batch_definition = data_asset.get_batch_definition(name=BATCH_DEFINITION)"
            ]
        },
        {
            "cell_type": "markdown",
            "metadata": {},
            "source": [
                "#### Verbindung testen"
            ]
        },
        {
            "cell_type": "code",
            "execution_count": null,
            "metadata": {},
            "outputs": [],
            "source": [
                "# Batch laden und die ersten 10 Datensätze ausgeben\n",
                "daily_batch = batch_definition.get_batch()\n",
                "daily_batch.head()"
            ]
        },
        {
            "cell_type": "markdown",
            "metadata": {},
            "source": [
                "### Definition der Datenvalidierung"
            ]
        },
        {
            "cell_type": "markdown",
            "metadata": {},
            "source": [
                "#### Expectation Suite hinzufügen"
            ]
        },
        {
            "cell_type": "code",
            "execution_count": null,
            "metadata": {},
            "outputs": [],
            "source": [
                "gx_suite = context.suites.add_or_update(gx.ExpectationSuite(name=EXPECTATION_SUITE))"
            ]
        },
        {
            "cell_type": "markdown",
            "metadata": {},
            "source": [
                "#### Expectations definieren"
            ]
        },
        {
            "cell_type": "code",
            "execution_count": null,
            "metadata": {},
            "outputs": [],
            "source": [
                "# Validierung von NULL-Werten\n",
                "exp_not_null_timestamp = gx.expectations.ExpectColumnValuesToNotBeNull(\n",
                "    column=\"timestamp\", description=\"Stellt sicher, dass das Zeitstempel-Feld nicht NULL ist.\"\n",
                ")\n",
                "exp_not_null_sensorId = gx.expectations.ExpectColumnValuesToNotBeNull(\n",
                "    column=\"sensor_id\", description=\"Stellt sicher, dass das Sensor-ID-Feld nicht NULL ist.\"\n",
                ")\n",
                "exp_not_null_location = gx.expectations.ExpectColumnValuesToNotBeNull(\n",
                "    column=\"location\", description=\"Stellt sicher, dass das Standort-Feld nicht NULL ist.\"\n",
                ")\n",
                "exp_not_null_temperature = gx.expectations.ExpectColumnValuesToNotBeNull(\n",
                "    column=\"temperature\", description=\"Stellt sicher, dass das Temperatur-Feld nicht NULL ist.\"\n",
                ")\n",
                "exp_not_null_humidity = gx.expectations.ExpectColumnValuesToNotBeNull(\n",
                "    column=\"humidity\", description=\"Stellt sicher, dass das Luftfeuchtigkeits-Feld nicht NULL ist.\"\n",
                ")\n",
                "exp_not_null_windSpeed = gx.expectations.ExpectColumnValuesToNotBeNull(\n",
                "    column=\"wind_speed\", description=\"Stellt sicher, dass das Windgeschwindigkeits-Feld nicht NULL ist.\"\n",
                ")\n",
                "\n",
                "# Validierung von Eindeutigkeit (Prüfung auf doppelte Datensätze)\n",
                "exp_unique_measurement = gx.expectations.ExpectCompoundColumnsToBeUnique(\n",
                "    column_list=[\"timestamp\", \"sensor_id\", \"location\"],\n",
                "    description=\"Stellt sicher, dass keine Messung redundant vorliegt.\",\n",
                "    \n",
                ")\n",
                "\n",
                "# Berechnung des Zeitfensters für die Aktualitätsprüfung\n",
                "min_timestamp = datetime.now() - timedelta(days=1)  # 24 Stunden zurück\n",
                "\n",
                "# Validierung der Aktualität\n",
                "exp_timestamp = gx.expectations.ExpectColumnValuesToBeBetween(\n",
                "    column=\"timestamp\",\n",
                "    min_value=min_timestamp,\n",
                "    description=\"Stellt sicher, dass der Zeitstempel innerhalb der letzten 24 Stunden liegt.\"\n",
                ")\n",
                "\n",
                "# Validierung von Wertebereichen\n",
                "exp_temperature = gx.expectations.ExpectColumnValuesToBeBetween(\n",
                "    column=\"temperature\", min_value=-20, max_value=50,\n",
                "    description=\"Stellt sicher, dass die Temperatur zwischen -20 und 50 Grad liegt.\"\n",
                ")\n",
                "exp_humidity = gx.expectations.ExpectColumnValuesToBeBetween(\n",
                "    column=\"humidity\", min_value=0, max_value=100,\n",
                "    description=\"Stellt sicher, dass die Luftfeuchtigkeit zwischen 0 und 100 Prozent liegt.\"\n",
                ")\n",
                "exp_wind_speed = gx.expectations.ExpectColumnValuesToBeBetween(\n",
                "    column=\"wind_speed\", min_value=0, max_value=50,\n",
                "    description=\"Stellt sicher, dass die Windgeschwindigkeit zwischen 0 und 50 km/h liegt.\"\n",
                ")\n",
                "\n",
                "# SQL-Abfrage für Genauigkeitsvalidierung definieren (am Beispiel temperature)\n",
                "my_query = \"\"\"\n",
                "    SELECT\n",
                "        *\n",
                "    FROM\n",
                "        {batch}\n",
                "    WHERE\n",
                "        LENGTH(SPLIT_PART(CAST(temperature AS TEXT), '.', 2)) < 1\n",
                "    \"\"\"\n",
                "\n",
                "# Validierung der Genauigkeit (am Beispiel der Spalte temperature)\n",
                "exp_temperature_precision = gx.expectations.UnexpectedRowsExpectation(\n",
                "    unexpected_rows_query=my_query,\n",
                "    description=\"Stellt sicher, dass die Temperaturwerte mindestens eine Dezimalstelle enthalten.\"\n",
                ")\n",
                "\n",
                "# Validierung der Konsistenz\n",
                "exp_sensor_id_consistency = gx.expectations.ExpectColumnValuesToBeInSet(\n",
                "    column=\"sensor_id\", value_set=[\"WS_001\", \"WS_002\", \"WS_003\", \"WS_004\", \"WS_005\"],\n",
                "    description=\"Stellt sicher, dass die Sensor-ID einem definierten Wert entspricht.\"\n",
                ")"
            ]
        },
        {
            "cell_type": "markdown",
            "metadata": {},
            "source": [
                "#### Expectations zum GX-Kontext hinzufügen"
            ]
        },
        {
            "cell_type": "code",
            "execution_count": null,
            "metadata": {},
            "outputs": [],
            "source": [
                "context.suites.get(name=EXPECTATION_SUITE).add_expectation(exp_not_null_timestamp)\n",
                "context.suites.get(name=EXPECTATION_SUITE).add_expectation(exp_not_null_sensorId)\n",
                "context.suites.get(name=EXPECTATION_SUITE).add_expectation(exp_not_null_location)\n",
                "context.suites.get(name=EXPECTATION_SUITE).add_expectation(exp_not_null_temperature)\n",
                "context.suites.get(name=EXPECTATION_SUITE).add_expectation(exp_not_null_humidity)\n",
                "context.suites.get(name=EXPECTATION_SUITE).add_expectation(exp_not_null_windSpeed)\n",
                "context.suites.get(name=EXPECTATION_SUITE).add_expectation(exp_unique_measurement)\n",
                "context.suites.get(name=EXPECTATION_SUITE).add_expectation(exp_timestamp)\n",
                "context.suites.get(name=EXPECTATION_SUITE).add_expectation(exp_temperature)\n",
                "context.suites.get(name=EXPECTATION_SUITE).add_expectation(exp_humidity)\n",
                "context.suites.get(name=EXPECTATION_SUITE).add_expectation(exp_wind_speed)\n",
                "context.suites.get(name=EXPECTATION_SUITE).add_expectation(exp_temperature_precision)\n",
                "context.suites.get(name=EXPECTATION_SUITE).add_expectation(exp_sensor_id_consistency)\n",
                "\n"
            ]
        },
        {
            "cell_type": "markdown",
            "metadata": {},
            "source": [
                "#### Validation-Definition zum Kontext hinzufügen"
            ]
        },
        {
            "cell_type": "code",
            "execution_count": null,
            "metadata": {},
            "outputs": [],
            "source": [
                "validation_definition = gx.ValidationDefinition(\n",
                "    data=batch_definition, \n",
                "    suite=context.suites.get(name=EXPECTATION_SUITE), \n",
                "    name=VALIDATION_DEFINITION\n",
                ")\n",
                "validation_definition = context.validation_definitions.add_or_update(validation_definition)"
            ]
        },
        {
            "cell_type": "markdown",
            "metadata": {},
            "source": [
                "### Definition des Checkpoints"
            ]
        },
        {
            "cell_type": "code",
            "execution_count": null,
            "metadata": {},
            "outputs": [],
            "source": [
                "action_list = [    \n",
                "    # Diese Aktion aktualisiert die Data Docs statische Website mit den Validierungsergebnissen,\n",
                "    # nachdem der Checkpoint ausgeführt wurde.\n",
                "    UpdateDataDocsAction(\n",
                "        name=\"update_all_data_docs\",\n",
                "    ),\n",
                "]\n",
                "\n",
                "# Checkpoint erstellen\n",
                "checkpoint = gx.Checkpoint(\n",
                "    name=CHECKPOINT_NAME,\n",
                "    validation_definitions=[context.validation_definitions.get(name=VALIDATION_DEFINITION)],\n",
                "    actions=action_list,\n",
                "    result_format={\"result_format\": \"COMPLETE\"},\n",
                ")\n",
                "\n",
                "# Checkpoint zum Kontext hinzufügen\n",
                "context.checkpoints.add_or_update(checkpoint)"
            ]
        },
        {
            "cell_type": "markdown",
            "metadata": {},
            "source": [
                "### Test-Validierung"
            ]
        },
        {
            "cell_type": "code",
            "execution_count": null,
            "metadata": {},
            "outputs": [],
            "source": [
                "# Vorhandenen Checkpoint anhand seines Namens abrufen und ausführen\n",
                "checkpoint_test = context.checkpoints.get(name=CHECKPOINT_NAME)\n",
                "checkpoint_test.run()"
            ]
        }
    ],
    "metadata": {
        "kernelspec": {
            "display_name": ".venv",
            "language": "python",
            "name": "python3"
        },
        "language_info": {
            "codemirror_mode": {
                "name": "ipython",
                "version": 3
            },
            "file_extension": ".py",
            "mimetype": "text/x-python",
            "name": "python",
            "nbconvert_exporter": "python",
            "pygments_lexer": "ipython3",
            "version": "3.11.3"
        }
    },
    "nbformat": 4,
    "nbformat_minor": 2
}
